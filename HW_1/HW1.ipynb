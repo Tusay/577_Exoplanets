{
 "cells": [
  {
   "cell_type": "markdown",
   "metadata": {},
   "source": [
    "dz/dt = sqrt(z) <br>\n",
    "z(t=0) = 1 <br>\n",
    "dz = dt * z^0.5<br>\n",
    "z_f - z_i = (t_f - t_i) * z^0.5 <br>\n",
    "z_f = (t_f - t_i) * z^0.5 + z_i"
   ]
  },
  {
   "cell_type": "code",
   "execution_count": 16,
   "metadata": {},
   "outputs": [
    {
     "data": {
      "image/png": "[encoded data removed]",
      "text/plain": [
       "<Figure size 432x288 with 1 Axes>"
      ]
     },
     "metadata": {
      "needs_background": "light"
     },
     "output_type": "display_data"
    }
   ],
   "source": [
    "import numpy as np\n",
    "ts = np.linspace(0,5)\n",
    "zs=np.empty_like(ts)\n",
    "zs[0]=1\n",
    "for i in range(1,len(ts)):\n",
    "    t_final = ts[i]\n",
    "    t_initial = ts[i-1]\n",
    "    dt = t_final-t_initial\n",
    "    z_initial = zs[i-1]\n",
    "    z_final = dt*(z_initial)**0.5+z_initial\n",
    "    zs[i]=z_final\n",
    "import matplotlib.pyplot as plt\n",
    "plt.plot(ts,zs)\n",
    "plt.ylabel('z')\n",
    "plt.xlabel('t')\n",
    "plt.show()\n",
    "\n"
   ]
  },
  {
   "cell_type": "code",
   "execution_count": null,
   "metadata": {},
   "outputs": [],
   "source": []
  }
 ],
 "metadata": {
  "interpreter": {
   "hash": "dbf213ce58016b7602f3ba0efc2a89c94bf840a9d34d1627df77c52bdb9fbe6b"
  },
  "kernelspec": {
   "display_name": "Python 3.9.7 64-bit (conda)",
   "language": "python",
   "name": "python3"
  },
  "language_info": {
   "codemirror_mode": {
    "name": "ipython",
    "version": 3
   },
   "file_extension": ".py",
   "mimetype": "text/x-python",
   "name": "python",
   "nbconvert_exporter": "python",
   "pygments_lexer": "ipython3",
   "version": "3.9.7"
  },
  "orig_nbformat": 4
 },
 "nbformat": 4,
 "nbformat_minor": 2
}
